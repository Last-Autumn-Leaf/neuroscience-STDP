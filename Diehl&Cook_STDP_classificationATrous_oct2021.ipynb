{
 "cells": [
  {
   "cell_type": "markdown",
   "metadata": {
    "cell_id": "00000-bd1f949d-8463-418a-b759-a8cfe749e813",
    "deepnote_cell_type": "markdown"
   },
   "source": [
    "## GEI723, Université de Sherbrooke, 5 Novembre 2021. Jean Rouat\n",
    "## Cours gradué en génie neurocomputationnel de la faculté de génie\n",
    "\n",
    "Ce notebook est une adaptation de la classification par STDP de MNIST par Diehl & Cook, créé par I. Balafrej pour l'automne 2019, et adapté par A. El Ferdaoussi pour l'automne 2020.\n",
    "\n",
    "L'article de Diehl & Cook est disponible ici: https://www.frontiersin.org/articles/10.3389/fncom.2015.00099/full\n",
    "\n",
    "Le modèle est simplifié un peu et réécrit pour Brian2 et Python 3. Le code est à trous, et les parties à compléter sont indiquées par 'COMPLETER'.\n",
    "\n",
    "ATTENTION: Dans l'exemple donné ici les auteurs utilisent seulement des données d'entrainement et de validation. Ils utilisent à tort le mot \"test\" pour désigner les données de validation.\n",
    "\n",
    "Les équations et certains paramètres des neurones sont fournies.\n",
    "\n",
    "Un exemple d'encodage par fréquence est utilisé (voir la partie \"testons à présent le réseau entrainé'). Vous avez toute liberté d'utiliser un autre type d'encodage.\n",
    "\n",
    "#### ATTENTION: Ce code est fourni à titre d'exemple. Vous n'avez aucune obligation de résoudre votre problème spécifiquement avec ce code."
   ]
  },
  {
   "cell_type": "code",
   "execution_count": 18,
   "metadata": {
    "cell_id": "00001-1470d664-e1f2-4934-b728-dd4304ba79a6",
    "deepnote_cell_type": "code",
    "deepnote_to_be_reexecuted": false,
    "execution_millis": 4414,
    "execution_start": 1637295904763,
    "source_hash": "32af512f"
   },
   "outputs": [],
   "source": [
    "import numpy as np\n",
    "from sklearn import datasets, model_selection\n",
    "from brian2 import *\n",
    "import matplotlib.pyplot as plt\n",
    "%matplotlib inline\n",
    "codegen.target = 'cython'"
   ]
  },
  {
   "cell_type": "markdown",
   "metadata": {
    "cell_id": "00002-96c93626-0333-4d67-94ee-77138a183699",
    "deepnote_cell_type": "markdown"
   },
   "source": [
    "## Ensemble de données MNIST\n",
    "\n",
    "On télécharge l'ensemble de données MNIST directement dans le code. MNIST est disponible à https://www.openml.org/d/554\n",
    "\n",
    "L'argument 'data_home' peut être utilisé pour télécharger MNIST dans un répertoire de votre choix. (Le répertoire par défaut est '~/scikit_learn_data/'.)"
   ]
  },
  {
   "cell_type": "code",
   "execution_count": 19,
   "metadata": {
    "cell_id": "00003-08b7a00d-41e7-4e6f-a22f-7b1420bac610",
    "deepnote_cell_type": "code",
    "deepnote_to_be_reexecuted": false,
    "execution_millis": 43944,
    "execution_start": 1637295909185,
    "source_hash": "d488f875"
   },
   "outputs": [],
   "source": [
    "X_all, y_all = datasets.fetch_openml('mnist_784', version=1, return_X_y=True, data_home=None)"
   ]
  },
  {
   "cell_type": "markdown",
   "metadata": {
    "cell_id": "00004-faea8670-371e-4740-9fe8-53b76b7084c8",
    "deepnote_cell_type": "markdown"
   },
   "source": [
    "MNIST est constituté de 70k d'images de 28x28 pixels, de chiffres.\n",
    "\n",
    "'X' est le vecteur d'images, et 'y' est le vecteur d'étiquettes (labels)."
   ]
  },
  {
   "cell_type": "markdown",
   "metadata": {
    "cell_id": "00006-e1cd7b97-d1a5-4201-b48f-d8c75226974e",
    "deepnote_cell_type": "markdown"
   },
   "source": [
    "La simulation avec toutes les images est assez longue à faire rouler. Utilisons uniquement un sous-ensemble de MNIST pour une simulation plus rapide."
   ]
  },
  {
   "cell_type": "code",
   "execution_count": 20,
   "metadata": {
    "cell_id": "00007-33a1456d-1224-43c2-bc93-f479cca20325",
    "deepnote_cell_type": "code",
    "deepnote_to_be_reexecuted": false,
    "execution_millis": 4,
    "execution_start": 1637299009258,
    "source_hash": "e5cdd246"
   },
   "outputs": [],
   "source": [
    "subset=100\n",
    "test_size=int(subset/5)\n",
    "X = X_all[:subset]\n",
    "y = y_all[:subset]"
   ]
  },
  {
   "cell_type": "markdown",
   "metadata": {
    "cell_id": "00008-947defed-060b-4bda-bf5c-e2edf70fc9a2",
    "deepnote_cell_type": "markdown"
   },
   "source": [
    "Divisons MNIST en ensembles d'entrainement et de test pour entrainer et tester le modèle post-apprentissage.\n",
    "\n",
    "Si on travaille avec l'ensemble au complet, on peut prendre 10k pour le test par exemple."
   ]
  },
  {
   "cell_type": "code",
   "execution_count": 21,
   "metadata": {
    "cell_id": "00009-72d3d9a1-5bf7-4743-b71c-517489ee38d8",
    "deepnote_cell_type": "code",
    "deepnote_to_be_reexecuted": false,
    "execution_millis": 5,
    "execution_start": 1637299011333,
    "source_hash": "62f4f0d1"
   },
   "outputs": [],
   "source": [
    "X_train, X_test, y_train, y_test = model_selection.train_test_split(\n",
    "    X, y, test_size=test_size)"
   ]
  },
  {
   "cell_type": "markdown",
   "metadata": {
    "cell_id": "00010-46036b04-71e8-485f-94e9-6e1af307ecba",
    "deepnote_cell_type": "markdown"
   },
   "source": [
    "Dessinons une image aléatoire de l'ensemble de données pour voir ce à quoi ressemble MNIST.\n",
    "\n",
    "Les images dans MNIST sont des vecteurs. Il faut donc les ré-organiser en matrice 28x28 pour les afficher."
   ]
  },
  {
   "cell_type": "code",
   "execution_count": 22,
   "metadata": {
    "cell_id": "00011-53c0cd9a-3750-4a99-adef-84c3045855f5",
    "deepnote_cell_type": "code",
    "deepnote_output_heights": [
     281
    ],
    "deepnote_to_be_reexecuted": false,
    "execution_millis": 186,
    "execution_start": 1637299012332,
    "source_hash": "fc787d07"
   },
   "outputs": [
    {
     "data": {
      "image/png": "[encoded data removed]",
      "text/plain": [
       "<Figure size 432x288 with 1 Axes>"
      ]
     },
     "metadata": {
      "needs_background": "light"
     },
     "output_type": "display_data"
    }
   ],
   "source": [
    "index = np.random.randint(0, len(X_train)-1)\n",
    "\n",
    "\n",
    "plt.figure()\n",
    "plt.axis('off')\n",
    "original_img=X_train[index:index+1].values.reshape(28, 28)\n",
    "plt.imshow(original_img, cmap=plt.cm.gray_r)\n",
    "plt.title(\"Échantillon MNIST avec étiquette %s\" % y_train[index:index+1]);"
   ]
  },
  {
   "cell_type": "markdown",
   "metadata": {
    "cell_id": "00013-241a677b-5510-4651-aece-4f19b9a838e3",
    "deepnote_cell_type": "markdown"
   },
   "source": [
    "## Réseau de neurones Brian2\n",
    "\n",
    "On peut maintenant créer un réseau Brian2. Commençons par définir quelques paramètres."
   ]
  },
  {
   "cell_type": "code",
   "execution_count": 23,
   "metadata": {
    "cell_id": "00014-4bfaf4ad-b69a-49b4-b3ca-aa0693658e82",
    "deepnote_cell_type": "code",
    "deepnote_to_be_reexecuted": false,
    "execution_millis": 1,
    "execution_start": 1637299013786,
    "source_hash": "6bf0b57f"
   },
   "outputs": [],
   "source": [
    "# Fixons le seed aléatoire afin de pouvoir reproduire les résultats\n",
    "np.random.seed(0)\n",
    "\n",
    "# Horloge de Brian2\n",
    "defaultclock.dt = 0.5 * units.ms\n",
    "\n",
    "# Cible de génération de code pour Brian2\n",
    "prefs.codegen.target = 'cython'\n",
    "\n",
    "time_per_sample =   0.35 * units.second\n",
    "resting_time = 0.15 * units.second\n",
    "\n",
    "v_rest_e = -65. * units.mV \n",
    "v_rest_i = -60. * units.mV \n",
    "\n",
    "v_reset_e = -65. * units.mV\n",
    "v_reset_i = -45. * units.mV\n",
    "\n",
    "v_thresh_e = -52. * units.mV\n",
    "v_thresh_i = -40. * units.mV\n",
    "\n",
    "refrac_e = 5. * units.ms\n",
    "refrac_i = 2. * units.ms\n",
    "\n",
    "tc_theta = 1e7 * units.ms\n",
    "theta_plus_e = 0.05 * units.mV\n",
    "\n",
    "tc_pre_ee = 20 * units.ms\n",
    "tc_post_1_ee = 20 * units.ms\n",
    "tc_post_2_ee = 40 * units.ms\n",
    "\n",
    "# Taux d'apprentissage\n",
    "nu_ee_pre =  0.0001\n",
    "nu_ee_post = 0.01\n",
    "\n",
    "Ne=400\n",
    "Ni=Ne\n",
    "\n",
    "wmax_ee = 1.0\n",
    "\n",
    "delay={}\n",
    "delay['ee_input'] = (0*ms,10*ms)\n",
    "delay['ei_input'] = (0*ms,5*ms)\n",
    "input_intensity = 2.\n",
    "offset = 20.0*mV"
   ]
  },
  {
   "cell_type": "markdown",
   "metadata": {
    "cell_id": "00015-67aee02b-928c-47f6-9c5e-2a6c50009e4f",
    "deepnote_cell_type": "markdown"
   },
   "source": [
    "Définissons l'entrée au réseau de neurones. L'entrée est un encodeur de type codage par COMPLETER."
   ]
  },
  {
   "cell_type": "code",
   "execution_count": 24,
   "metadata": {
    "cell_id": "00016-5dba3f10-7e16-47d1-8202-c18157c92693",
    "deepnote_cell_type": "code",
    "deepnote_to_be_reexecuted": false,
    "execution_millis": 5,
    "execution_start": 1637299014656,
    "source_hash": "358235bf"
   },
   "outputs": [],
   "source": [
    "def encode_h_poisson(stimulus, window):\n",
    "    \"\"\"\n",
    "    Encodage en taux de décharge d'un stimulus statique avec processus homogène de Poisson\n",
    "    \n",
    "    Args:\n",
    "        stimulus : le stimulus à encoder\n",
    "        window   : fenêtre temporelle en ms (avec pas discrets de 1 ms)\n",
    "  \n",
    "    Returns:\n",
    "        spikes   : trains de décharges\n",
    "    \"\"\"\n",
    "    \n",
    "    spikes = np.zeros((stimulus.size, window))\n",
    "\n",
    "    for n in range(stimulus.size):\n",
    "        # Générer aléatoirement des décharges en fonction de la valeur d'intensité des pixels\n",
    "        mask = np.random.rand(window) < stimulus[n]\n",
    "        spikes[n, mask] = 1\n",
    "    return spikes\n",
    "\n",
    "def decode_h_poisson(spikes, window):\n",
    "    \"\"\"\n",
    "    Décodage d'un stimulus statique à partir du taux de décharge pour un encodage avec processus homogène de Poisson.\n",
    "    \n",
    "    Args:\n",
    "        spikes : trains de décharges\n",
    "        window : fenêtre temporelle en ms (avec pas discrets de 1 ms)\n",
    "  \n",
    "    Returns:\n",
    "        decoded_stimulus : stimulus décodé (reconstruit) à partir des trains de décharges\n",
    "    \"\"\"\n",
    "\n",
    "    # Calculer le nombre de décharge pour chaque neurone\n",
    "    spike_count = np.sum(spikes, axis=1)\n",
    "\n",
    "    # Convertir le nombre de décharges en valeur d'intensité de pixel décodée\n",
    "    decoded_stimulus = spike_count / window\n",
    "\n",
    "    return decoded_stimulus\n"
   ]
  },
  {
   "cell_type": "code",
   "execution_count": 25,
   "metadata": {
    "cell_id": "00017-297d9e45-294d-4b76-a8b0-d73708eabb7f",
    "deepnote_cell_type": "code",
    "deepnote_output_heights": [
     201
    ],
    "deepnote_to_be_reexecuted": false,
    "execution_millis": 383,
    "execution_start": 1637299015326,
    "source_hash": "1fccbccd"
   },
   "outputs": [
    {
     "data": {
      "image/png": "[encoded data removed]",
      "text/plain": [
       "<Figure size 432x288 with 2 Axes>"
      ]
     },
     "metadata": {
      "needs_background": "light"
     },
     "output_type": "display_data"
    }
   ],
   "source": [
    "\n",
    "# Choisir la taille de la fenêtre temporelle d'encodage\n",
    "window = 350  # en ms\n",
    "img=X_train[index:index+1].values.reshape(784) /255\n",
    "\n",
    "# Encoder le stimulus\n",
    "spikes = encode_h_poisson(img, window)\n",
    "\n",
    "# Reconstruire l'image\n",
    "decoded_stimulus = decode_h_poisson(spikes, window)\n",
    "\n",
    "# Redimensionner le vecteur en image 2D\n",
    "decoded_img = np.reshape(decoded_stimulus, (28, 28))\n",
    "\n",
    "# Afficher l'image originale et l'image reconstruite\n",
    "fig, axes = plt.subplots(1, 2)\n",
    "axes[0].imshow(original_img, cmap='gray')\n",
    "axes[0].set_title('Original image')\n",
    "axes[1].imshow(decoded_img, cmap='gray')\n",
    "_ = axes[1].set_title('Decoded image')"
   ]
  },
  {
   "cell_type": "code",
   "execution_count": 26,
   "metadata": {
    "cell_id": "00018-58272e46-d77c-46b8-81fa-cb933a5a0a24",
    "deepnote_cell_type": "code",
    "deepnote_output_heights": [
     21.199996948242188
    ],
    "deepnote_to_be_reexecuted": false,
    "execution_millis": 10,
    "execution_start": 1637299027344,
    "source_hash": "6298bf28"
   },
   "outputs": [],
   "source": [
    "\n",
    "input_group = PoissonGroup(X_train.shape[1],0*Hz)\n"
   ]
  },
  {
   "cell_type": "markdown",
   "metadata": {
    "cell_id": "00019-71b23f2b-8d27-46cb-9fb7-622313d36513",
    "deepnote_cell_type": "markdown"
   },
   "source": [
    "Définissons notre modèle de neurone ainsi que nos groupes de neurones."
   ]
  },
  {
   "cell_type": "code",
   "execution_count": 27,
   "metadata": {
    "cell_id": "00020-2d118348-42c3-4fd7-903a-476408684228",
    "deepnote_cell_type": "code",
    "deepnote_to_be_reexecuted": false,
    "execution_millis": 22,
    "execution_start": 1637299030538,
    "source_hash": "70991867"
   },
   "outputs": [],
   "source": [
    "neuron_eqs_e = '''\n",
    "    dv/dt = ((v_rest_e - v) + (I_synE + I_synI) / nS) / tau  : volt (unless refractory)\n",
    "\n",
    "    I_synE =  ge * nS * -v           : amp\n",
    "    \n",
    "    I_synI =  gi * nS * (d_I_synI-v) : amp\n",
    "    \n",
    "    dge/dt = -ge/(1.0*ms)            : 1\n",
    "    \n",
    "    dgi/dt = -gi/(2.0*ms)            : 1\n",
    "    \n",
    "    tau                              : second (constant, shared)\n",
    "    \n",
    "    d_I_synI                         : volt (constant, shared)\n",
    "    \n",
    "    dtheta/dt = -theta / (tc_theta)  : volt\n",
    "    \n",
    "    \n",
    "'''\n",
    "\n",
    "neuron_eqs_i = '''\n",
    "        dv/dt = ((v_rest_i - v) + (I_synE+I_synI) / nS) / (10*ms)  : volt\n",
    "        I_synE = ge * nS *         -v                           : amp\n",
    "        I_synI = gi * nS * (-85.*mV-v)                          : amp\n",
    "        dge/dt = -ge/(1.0*ms)                                   : 1\n",
    "        dgi/dt = -gi/(2.0*ms)                                  : 1\n",
    "        '''\n",
    "\n",
    "\n",
    "excitatory_group = NeuronGroup(\n",
    "    N=Ne, model=neuron_eqs_e, refractory=refrac_e, \n",
    "    threshold='v>v_thresh_e+ theta - 20.0*mV', reset='v=v_rest_e; theta += theta_plus_e;', method='euler')\n",
    "excitatory_group.tau = 100 * units.ms\n",
    "excitatory_group.d_I_synI = -100. * units.mV\n",
    "excitatory_group.v=v_rest_e - 40. * mV\n",
    "excitatory_group.theta=np.ones((Ne)) * 20.0*mV\n",
    "\n",
    "inhibitory_group = NeuronGroup(\n",
    "    N=Ni, model=neuron_eqs_i, refractory=refrac_i, \n",
    "    threshold='v>v_thresh_i', reset='v=v_rest_i', method='euler')\n",
    "inhibitory_group.v=v_rest_i - 40. * mV"
   ]
  },
  {
   "cell_type": "code",
   "execution_count": 28,
   "metadata": {},
   "outputs": [
    {
     "name": "stdout",
     "output_type": "stream",
     "text": [
      "5. ms\n"
     ]
    }
   ],
   "source": [
    "print(refrac_e)"
   ]
  },
  {
   "cell_type": "markdown",
   "metadata": {
    "cell_id": "00021-e47c770b-f05b-4562-8097-72676609ad93",
    "deepnote_cell_type": "markdown"
   },
   "source": [
    "Et les synapses."
   ]
  },
  {
   "cell_type": "code",
   "execution_count": 29,
   "metadata": {
    "cell_id": "00022-7e29b3ed-af02-45eb-8a87-daf01733eba0",
    "deepnote_cell_type": "code",
    "deepnote_to_be_reexecuted": false,
    "execution_millis": 22713,
    "execution_start": 1637299033546,
    "source_hash": "4e238877"
   },
   "outputs": [],
   "source": [
    "synapse_model = \"w : 1\"\n",
    "\n",
    "stdp_synapse_model = '''\n",
    "    w : 1\n",
    "\n",
    "    plastic : boolean (shared) # Activer/désactiver la plasticité\n",
    "    \n",
    "    post2before : 1\n",
    "    \n",
    "    dpre/dt   =   -pre/(tc_pre_ee) : 1 (event-driven)\n",
    "    \n",
    "    dpost1/dt  =  -post1/(tc_post_1_ee) : 1 (event-driven)\n",
    "    \n",
    "    dpost2/dt  =  -post2/(tc_post_2_ee) : 1 (event-driven)\n",
    "'''\n",
    "\n",
    "stdp_pre = '''\n",
    "    ge_post += w\n",
    "    \n",
    "    pre = 1.\n",
    "    \n",
    "    w = clip(w - nu_ee_pre * post1*plastic, 0, wmax_ee)\n",
    "'''\n",
    "\n",
    "stdp_post = '''\n",
    "    post2before = post2\n",
    "    \n",
    "    w = clip(w + nu_ee_post * pre * post2before*plastic, 0, wmax_ee)\n",
    "    \n",
    "    post1 = 1.\n",
    "    \n",
    "    post2 = 1.\n",
    "'''\n",
    "\n",
    "input_synapse = Synapses(input_group,excitatory_group,model=stdp_synapse_model, on_pre=stdp_pre, on_post=stdp_post)\n",
    "input_synapse.connect(True) # Fully connected\n",
    "deltaDelay=delay['ee_input'][0] - delay['ee_input'][1]\n",
    "input_synapse.delay = 'deltaDelay*rand() '\n",
    "input_synapse.plastic = True\n",
    "input_synapse.w = '(rand()+0.1)*0.3'\n",
    "\n",
    "#e_i_synapse = Synapses(excitatory_group, inhibitory_group, model=stdp_synapse_model, on_pre=stdp_pre, on_post=stdp_post)\n",
    "e_i_synapse = Synapses(excitatory_group, inhibitory_group, model=synapse_model, on_pre=\"ge_post += w\")\n",
    "e_i_synapse.connect(True, p=0.0025)\n",
    "e_i_synapse.w = 'rand()*10.4'\n",
    "\n",
    "i_e_synapse = Synapses(inhibitory_group, excitatory_group, model=synapse_model, on_pre=\"gi_post += w\")\n",
    "i_e_synapse.connect(True, p=0.9)\n",
    "i_e_synapse.w = 'rand()*17.0'"
   ]
  },
  {
   "cell_type": "markdown",
   "metadata": {
    "cell_id": "00023-f50b6a33-b14b-4038-beed-f022356ad7c5",
    "deepnote_cell_type": "markdown"
   },
   "source": [
    "Combien de synapses a-t-on dans le réseau?"
   ]
  },
  {
   "cell_type": "code",
   "execution_count": 30,
   "metadata": {
    "cell_id": "00024-ef5395e8-4593-4f4b-8318-be07e95dd1cb",
    "deepnote_cell_type": "code",
    "deepnote_to_be_reexecuted": false,
    "execution_millis": 2,
    "execution_start": 1637299056273,
    "scrolled": true,
    "source_hash": "c0c28506"
   },
   "outputs": [
    {
     "name": "stdout",
     "output_type": "stream",
     "text": [
      "457909\n"
     ]
    }
   ],
   "source": [
    "print(len(input_synapse) + len(e_i_synapse) + len(i_e_synapse))"
   ]
  },
  {
   "cell_type": "markdown",
   "metadata": {
    "cell_id": "00025-b354c8fe-b328-4ff4-ab72-c231c50c4898",
    "deepnote_cell_type": "markdown"
   },
   "source": [
    "Définissons un 'readout' pour notre réseau."
   ]
  },
  {
   "cell_type": "code",
   "execution_count": 31,
   "metadata": {
    "cell_id": "00026-62bf4b76-a795-48e8-aa11-987a6f6dcc08",
    "deepnote_cell_type": "code",
    "deepnote_to_be_reexecuted": false,
    "execution_millis": 8,
    "execution_start": 1637299061042,
    "source_hash": "de7090f2"
   },
   "outputs": [],
   "source": [
    "e_monitor = SpikeMonitor(excitatory_group, record=False)"
   ]
  },
  {
   "cell_type": "markdown",
   "metadata": {
    "cell_id": "00027-582d8dfc-0c37-4717-8794-2bf61d32b3f4",
    "deepnote_cell_type": "markdown"
   },
   "source": [
    "Créons le réseau."
   ]
  },
  {
   "cell_type": "code",
   "execution_count": 32,
   "metadata": {
    "cell_id": "00028-d4ea62dd-c31f-448f-b4b2-ce79af5aa519",
    "deepnote_cell_type": "code",
    "deepnote_to_be_reexecuted": false,
    "execution_millis": 4,
    "execution_start": 1637299066229,
    "source_hash": "c657172d"
   },
   "outputs": [],
   "source": [
    "net = Network(input_group, excitatory_group, inhibitory_group, \n",
    "              input_synapse, e_i_synapse, i_e_synapse, e_monitor)"
   ]
  },
  {
   "cell_type": "markdown",
   "metadata": {
    "cell_id": "00029-3e149260-5041-422d-8120-aac68d8ff46e",
    "deepnote_cell_type": "markdown"
   },
   "source": [
    "## Entrainement\n",
    "\n",
    "Entrainons à présent notre réseau.\n",
    "\n",
    "Créons une matrice 'spikes' pour assigner les étiquettes des classes post-apprentissage. Cette matrice accumulera le décompte de décharges par classe.\n",
    "\n",
    "Notre readout 'e_monitor' est actif tout le long de la simulation avec toutes les images. Donc à chaque nouvelle présentation d'image, on doit soustraire l'ancien décompte de décharges. On utilisera le vecteur 'old_spike_counts' pour le faire. "
   ]
  },
  {
   "cell_type": "code",
   "execution_count": 33,
   "metadata": {
    "cell_id": "00030-80927a85-9568-4fa5-bf1b-8dc327098017",
    "deepnote_cell_type": "code",
    "deepnote_output_heights": [
     null,
     611
    ],
    "deepnote_to_be_reexecuted": false,
    "execution_millis": 4932,
    "execution_start": 1637299078600,
    "scrolled": false,
    "source_hash": "465bac37"
   },
   "outputs": [
    {
     "name": "stdout",
     "output_type": "stream",
     "text": [
      "Starting iteration 0\n",
      "Running sample 0 out of 80 with input_intensity 2\n",
      "Running sample 0 out of 80 with input_intensity 3\n",
      "Running sample 0 out of 80 with input_intensity 4\n",
      "Running sample 0 out of 80 with input_intensity 5\n",
      "Running sample 0 out of 80 with input_intensity 6\n",
      "Running sample 0 out of 80 with input_intensity 7\n",
      "Running sample 0 out of 80 with input_intensity 8\n",
      "For j = 0 input_intensity= 8.0\n",
      "For j = 1 input_intensity= 11.0\n",
      "For j = 2 input_intensity= 10.0\n",
      "For j = 3 input_intensity= 7.0\n",
      "For j = 4 input_intensity= 11.0\n",
      "For j = 5 input_intensity= 14.0\n",
      "For j = 6 input_intensity= 15.0\n",
      "For j = 7 input_intensity= 15.0\n",
      "For j = 8 input_intensity= 7.0\n",
      "For j = 9 input_intensity= 18.0\n",
      "Running sample 10 out of 80 with input_intensity 2\n",
      "Running sample 10 out of 80 with input_intensity 3\n",
      "Running sample 10 out of 80 with input_intensity 4\n",
      "Running sample 10 out of 80 with input_intensity 5\n",
      "Running sample 10 out of 80 with input_intensity 6\n",
      "Running sample 10 out of 80 with input_intensity 7\n",
      "Running sample 10 out of 80 with input_intensity 8\n",
      "Running sample 10 out of 80 with input_intensity 9\n",
      "Running sample 10 out of 80 with input_intensity 10\n",
      "For j = 10 input_intensity= 10.0\n",
      "For j = 11 input_intensity= 8.0\n",
      "For j = 12 input_intensity= 16.0\n",
      "For j = 13 input_intensity= 9.0\n",
      "For j = 14 input_intensity= 11.0\n",
      "For j = 15 input_intensity= 9.0\n",
      "For j = 16 input_intensity= 9.0\n",
      "For j = 17 input_intensity= 10.0\n",
      "For j = 18 input_intensity= 15.0\n",
      "For j = 19 input_intensity= 11.0\n",
      "Running sample 20 out of 80 with input_intensity 2\n",
      "Running sample 20 out of 80 with input_intensity 3\n",
      "Running sample 20 out of 80 with input_intensity 4\n",
      "Running sample 20 out of 80 with input_intensity 5\n",
      "Running sample 20 out of 80 with input_intensity 6\n",
      "Running sample 20 out of 80 with input_intensity 7\n",
      "Running sample 20 out of 80 with input_intensity 8\n",
      "Running sample 20 out of 80 with input_intensity 9\n",
      "Running sample 20 out of 80 with input_intensity 10\n",
      "Running sample 20 out of 80 with input_intensity 11\n",
      "For j = 20 input_intensity= 11.0\n",
      "For j = 21 input_intensity= 10.0\n",
      "For j = 22 input_intensity= 11.0\n",
      "For j = 23 input_intensity= 13.0\n",
      "For j = 24 input_intensity= 11.0\n",
      "For j = 25 input_intensity= 12.0\n",
      "For j = 26 input_intensity= 8.0\n",
      "For j = 27 input_intensity= 15.0\n",
      "For j = 28 input_intensity= 7.0\n",
      "For j = 29 input_intensity= 14.0\n",
      "Running sample 30 out of 80 with input_intensity 2\n",
      "Running sample 30 out of 80 with input_intensity 3\n",
      "Running sample 30 out of 80 with input_intensity 4\n",
      "Running sample 30 out of 80 with input_intensity 5\n",
      "Running sample 30 out of 80 with input_intensity 6\n",
      "Running sample 30 out of 80 with input_intensity 7\n",
      "Running sample 30 out of 80 with input_intensity 8\n",
      "Running sample 30 out of 80 with input_intensity 9\n",
      "For j = 30 input_intensity= 9.0\n",
      "For j = 31 input_intensity= 23.0\n",
      "For j = 32 input_intensity= 8.0\n",
      "For j = 33 input_intensity= 7.0\n",
      "For j = 34 input_intensity= 14.0\n",
      "For j = 35 input_intensity= 10.0\n",
      "For j = 36 input_intensity= 8.0\n",
      "For j = 37 input_intensity= 9.0\n",
      "For j = 38 input_intensity= 9.0\n",
      "For j = 39 input_intensity= 10.0\n",
      "Running sample 40 out of 80 with input_intensity 2\n",
      "Running sample 40 out of 80 with input_intensity 3\n",
      "Running sample 40 out of 80 with input_intensity 4\n",
      "Running sample 40 out of 80 with input_intensity 5\n",
      "Running sample 40 out of 80 with input_intensity 6\n",
      "Running sample 40 out of 80 with input_intensity 7\n",
      "Running sample 40 out of 80 with input_intensity 8\n",
      "Running sample 40 out of 80 with input_intensity 9\n",
      "Running sample 40 out of 80 with input_intensity 10\n",
      "For j = 40 input_intensity= 10.0\n",
      "For j = 41 input_intensity= 8.0\n",
      "For j = 42 input_intensity= 10.0\n",
      "For j = 43 input_intensity= 9.0\n",
      "For j = 44 input_intensity= 6.0\n",
      "For j = 45 input_intensity= 7.0\n",
      "For j = 46 input_intensity= 12.0\n",
      "For j = 47 input_intensity= 19.0\n",
      "For j = 48 input_intensity= 8.0\n",
      "For j = 49 input_intensity= 14.0\n",
      "Running sample 50 out of 80 with input_intensity 2\n",
      "Running sample 50 out of 80 with input_intensity 3\n",
      "Running sample 50 out of 80 with input_intensity 4\n",
      "Running sample 50 out of 80 with input_intensity 5\n",
      "Running sample 50 out of 80 with input_intensity 6\n",
      "Running sample 50 out of 80 with input_intensity 7\n",
      "Running sample 50 out of 80 with input_intensity 8\n",
      "For j = 50 input_intensity= 8.0\n",
      "For j = 51 input_intensity= 14.0\n",
      "For j = 52 input_intensity= 15.0\n",
      "For j = 53 input_intensity= 15.0\n",
      "For j = 54 input_intensity= 7.0\n",
      "For j = 55 input_intensity= 17.0\n",
      "For j = 56 input_intensity= 9.0\n",
      "For j = 57 input_intensity= 10.0\n",
      "For j = 58 input_intensity= 8.0\n",
      "For j = 59 input_intensity= 8.0\n",
      "Running sample 60 out of 80 with input_intensity 2\n",
      "Running sample 60 out of 80 with input_intensity 3\n",
      "Running sample 60 out of 80 with input_intensity 4\n",
      "Running sample 60 out of 80 with input_intensity 5\n",
      "Running sample 60 out of 80 with input_intensity 6\n",
      "Running sample 60 out of 80 with input_intensity 7\n",
      "Running sample 60 out of 80 with input_intensity 8\n",
      "Running sample 60 out of 80 with input_intensity 9\n",
      "Running sample 60 out of 80 with input_intensity 10\n",
      "Running sample 60 out of 80 with input_intensity 11\n",
      "Running sample 60 out of 80 with input_intensity 12\n",
      "Running sample 60 out of 80 with input_intensity 13\n",
      "For j = 60 input_intensity= 13.0\n",
      "For j = 61 input_intensity= 12.0\n",
      "For j = 62 input_intensity= 9.0\n",
      "For j = 63 input_intensity= 8.0\n",
      "For j = 64 input_intensity= 9.0\n",
      "For j = 65 input_intensity= 7.0\n",
      "For j = 66 input_intensity= 11.0\n",
      "For j = 67 input_intensity= 11.0\n",
      "For j = 68 input_intensity= 15.0\n",
      "For j = 69 input_intensity= 7.0\n",
      "Running sample 70 out of 80 with input_intensity 2\n",
      "Running sample 70 out of 80 with input_intensity 3\n",
      "Running sample 70 out of 80 with input_intensity 4\n",
      "Running sample 70 out of 80 with input_intensity 5\n",
      "Running sample 70 out of 80 with input_intensity 6\n",
      "Running sample 70 out of 80 with input_intensity 7\n",
      "Running sample 70 out of 80 with input_intensity 8\n",
      "Running sample 70 out of 80 with input_intensity 9\n",
      "Running sample 70 out of 80 with input_intensity 10\n",
      "Running sample 70 out of 80 with input_intensity 11\n",
      "For j = 70 input_intensity= 11.0\n",
      "For j = 71 input_intensity= 12.0\n",
      "For j = 72 input_intensity= 9.0\n",
      "For j = 73 input_intensity= 10.0\n",
      "For j = 74 input_intensity= 13.0\n",
      "For j = 75 input_intensity= 15.0\n",
      "For j = 76 input_intensity= 9.0\n",
      "For j = 77 input_intensity= 16.0\n",
      "For j = 78 input_intensity= 10.0\n",
      "For j = 79 input_intensity= 11.0\n"
     ]
    }
   ],
   "source": [
    "spikes = np.zeros((10, len(excitatory_group)))\n",
    "old_spike_counts = np.zeros(len(excitatory_group))\n",
    "\n",
    "# Entrainement\n",
    "number_of_epochs = 1\n",
    "mean_of_w=[]\n",
    "j=0\n",
    "j_max=len(X_train)\n",
    "for i in range(number_of_epochs):\n",
    "    print('Starting iteration %i' % i)\n",
    "    while j < j_max:\n",
    "        sample=X_train.values[j]\n",
    "        label=y_train.values[j]\n",
    "        \n",
    "        if (j % 10) == 0:\n",
    "            print(\"Running sample %i out of %i with input_intensity %i\" % (j, len(X_train),input_intensity))\n",
    "        \n",
    "        \n",
    "        # Normaliser les poids\n",
    "        weight_matrix = np.zeros((784,400))\n",
    "        weight_matrix[input_synapse.i, input_synapse.j] = input_synapse.w\n",
    "        colSums = np.sum(weight_matrix, axis = 0)\n",
    "        colFactors = 78/colSums\n",
    "        for k in range(Ne):\n",
    "            weight_matrix[:,k] *= colFactors[k]\n",
    "        input_synapse.w = weight_matrix[input_synapse.i, input_synapse.j]\n",
    "        \n",
    "        input_group.rates = sample / 8.*input_intensity * units.Hz \n",
    "        \n",
    "        net.run(time_per_sample)\n",
    "        \n",
    "        current_spike_count = e_monitor.count - old_spike_counts\n",
    "        old_spike_counts = np.copy(e_monitor.count)\n",
    "        \n",
    "        input_group.rates = 0 * units.Hz\n",
    "        \n",
    "        \n",
    "        if np.sum(current_spike_count) < 5:\n",
    "            input_intensity += 1\n",
    "            net.run(resting_time)\n",
    "        else:\n",
    "            print('For j =',j,'input_intensity=',input_intensity)\n",
    "            spikes[int(label)] += e_monitor.count - old_spike_counts\n",
    "            net.run(resting_time)\n",
    "            input_intensity =2.\n",
    "            mean_of_w.append(np.mean(input_synapse.w))\n",
    "            \n",
    "            \n",
    "            j+=1\n",
    "        \n",
    "        "
   ]
  },
  {
   "cell_type": "code",
   "execution_count": 34,
   "metadata": {},
   "outputs": [
    {
     "data": {
      "text/plain": [
       "(array([ 1345., 16905., 17210., 17293., 17170., 17462., 17232., 17246.,\n",
       "        17286., 17278., 17425., 17373., 17310., 17208., 17356., 17570.,\n",
       "        17451., 17488., 15435.,  2557.]),\n",
       " array([0.00814824, 0.01727275, 0.02639726, 0.03552177, 0.04464628,\n",
       "        0.05377079, 0.0628953 , 0.07201981, 0.08114432, 0.09026883,\n",
       "        0.09939334, 0.10851785, 0.11764236, 0.12676687, 0.13589138,\n",
       "        0.14501589, 0.1541404 , 0.16326491, 0.17238942, 0.18151393,\n",
       "        0.19063844]),\n",
       " <BarContainer object of 20 artists>)"
      ]
     },
     "execution_count": 34,
     "metadata": {},
     "output_type": "execute_result"
    },
    {
     "data": {
      "image/png": "[encoded data removed]",
      "text/plain": [
       "<Figure size 432x288 with 1 Axes>"
      ]
     },
     "metadata": {
      "needs_background": "light"
     },
     "output_type": "display_data"
    }
   ],
   "source": [
    "plot(mean_of_w)\n",
    "hist(input_synapse.w , 20)"
   ]
  },
  {
   "cell_type": "markdown",
   "metadata": {
    "cell_id": "00031-54b2bbb9-5136-4d5a-820a-45f7934ce8d0",
    "deepnote_cell_type": "markdown"
   },
   "source": [
    "## Test\n",
    "\n",
    "Commençons par trouver le meilleur neurone pour chaque classe de MNIST."
   ]
  },
  {
   "cell_type": "code",
   "execution_count": 35,
   "metadata": {
    "cell_id": "00032-a8a8f46a-1b74-4036-ba5b-9e4b3abd6688",
    "deepnote_cell_type": "code",
    "deepnote_to_be_reexecuted": true,
    "source_hash": "e700b3c2"
   },
   "outputs": [
    {
     "data": {
      "text/plain": [
       "array([0, 0, 0, 0, 0, 0, 0, 0, 0, 0])"
      ]
     },
     "execution_count": 35,
     "metadata": {},
     "output_type": "execute_result"
    }
   ],
   "source": [
    "labeled_neurons = np.argmax(spikes, axis=1)\n",
    "\n",
    "labeled_neurons"
   ]
  },
  {
   "cell_type": "markdown",
   "metadata": {
    "cell_id": "00033-fcf31e06-9dc6-4c67-8b7d-88f84d70a166",
    "deepnote_cell_type": "markdown"
   },
   "source": [
    "Testons à présent le réseau entrainé!"
   ]
  },
  {
   "cell_type": "code",
   "execution_count": 36,
   "metadata": {
    "cell_id": "00034-99f3d082-0757-4148-ac24-8459b52fb30c",
    "deepnote_cell_type": "code",
    "deepnote_to_be_reexecuted": true,
    "source_hash": "506ee739"
   },
   "outputs": [
    {
     "name": "stdout",
     "output_type": "stream",
     "text": [
      "Running sample 0 out of 20\n",
      "Running sample 10 out of 20\n",
      "The model accuracy is : 0.150\n"
     ]
    }
   ],
   "source": [
    "# Déasctiver la plasticité STDP\n",
    "input_synapse.plastic = False\n",
    "\n",
    "num_correct_output = 0\n",
    "\n",
    "for i, (sample, label) in enumerate(zip(X_test.values, y_test)):\n",
    "    # Afficher régulièrement l'état d'avancement\n",
    "    if (i % 10) == 0:\n",
    "        print(\"Running sample %i out of %i\" % (i, len(X_test)))\n",
    "    \n",
    "    # Configurer le taux d'entrée\n",
    "    # ATTENTION, vous pouvez utiliser un autre type d'encodage\n",
    "    input_group.rates = sample  / 8.*input_intensity * units.Hz \n",
    "    \n",
    "    # Simuler le réseau\n",
    "    net.run(time_per_sample)\n",
    "    \n",
    "    # Calculer le nombre de décharges pour l'échantillon\n",
    "    current_spike_count = e_monitor.count - old_spike_counts\n",
    "    # Gardons une copie du décompte de décharges pour pouvoir calculer le prochain\n",
    "    old_spike_counts = np.copy(e_monitor.count)\n",
    "    \n",
    "    # Prédire la classe de l'échantillon\n",
    "    output_label = np.argmax(current_spike_count)\n",
    "    \n",
    "    # Si la prédiction est correcte\n",
    "    if output_label == int(label):\n",
    "        num_correct_output += 1\n",
    "        \n",
    "    # Laisser les variables retourner à leurs valeurs de repos\n",
    "    net.run(resting_time)\n",
    "\n",
    "    \n",
    "print(\"The model accuracy is : %.3f\" % (num_correct_output / len(X_test)))    "
   ]
  },
  {
   "cell_type": "code",
   "execution_count": 37,
   "metadata": {},
   "outputs": [
    {
     "data": {
      "text/plain": [
       "'0'"
      ]
     },
     "execution_count": 37,
     "metadata": {},
     "output_type": "execute_result"
    }
   ],
   "source": [
    "y_train.values[0]"
   ]
  },
  {
   "cell_type": "code",
   "execution_count": 38,
   "metadata": {},
   "outputs": [
    {
     "data": {
      "text/plain": [
       "80"
      ]
     },
     "execution_count": 38,
     "metadata": {},
     "output_type": "execute_result"
    }
   ],
   "source": [
    "len(X_train)"
   ]
  },
  {
   "cell_type": "code",
   "execution_count": 39,
   "metadata": {},
   "outputs": [
    {
     "data": {
      "text/plain": [
       "(array([ 1345., 16905., 17210., 17293., 17170., 17462., 17232., 17246.,\n",
       "        17286., 17278., 17425., 17373., 17310., 17208., 17356., 17570.,\n",
       "        17451., 17488., 15435.,  2557.]),\n",
       " array([0.00814824, 0.01727275, 0.02639726, 0.03552177, 0.04464628,\n",
       "        0.05377079, 0.0628953 , 0.07201981, 0.08114432, 0.09026883,\n",
       "        0.09939334, 0.10851785, 0.11764236, 0.12676687, 0.13589138,\n",
       "        0.14501589, 0.1541404 , 0.16326491, 0.17238942, 0.18151393,\n",
       "        0.19063844]),\n",
       " <BarContainer object of 20 artists>)"
      ]
     },
     "execution_count": 39,
     "metadata": {},
     "output_type": "execute_result"
    },
    {
     "data": {
      "image/png": "[encoded data removed]",
      "text/plain": [
       "<Figure size 432x288 with 1 Axes>"
      ]
     },
     "metadata": {
      "needs_background": "light"
     },
     "output_type": "display_data"
    }
   ],
   "source": [
    "hist(input_synapse.w , 20)"
   ]
  },
  {
   "cell_type": "code",
   "execution_count": null,
   "metadata": {},
   "outputs": [],
   "source": []
  }
 ],
 "metadata": {
  "deepnote": {},
  "deepnote_execution_queue": [
   {
    "cellId": "00030-80927a85-9568-4fa5-bf1b-8dc327098017",
    "msgId": "e77cc8c3-ed0f-4abb-b1b4-995b5416c1f3",
    "sessionId": "b7632cd4-db61-40e7-b9db-e18163b6a58e"
   }
  ],
  "deepnote_notebook_id": "08730386-c325-45d2-868a-889c9b88f67a",
  "kernelspec": {
   "display_name": "Python 3 (ipykernel)",
   "language": "python",
   "name": "python3"
  },
  "language_info": {
   "codemirror_mode": {
    "name": "ipython",
    "version": 3
   },
   "file_extension": ".py",
   "mimetype": "text/x-python",
   "name": "python",
   "nbconvert_exporter": "python",
   "pygments_lexer": "ipython3",
   "version": "3.9.7"
  }
 },
 "nbformat": 4,
 "nbformat_minor": 2
}