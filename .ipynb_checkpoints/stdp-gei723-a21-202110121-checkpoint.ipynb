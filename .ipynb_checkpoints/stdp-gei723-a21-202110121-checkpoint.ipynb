{
 "cells": [
  {
   "cell_type": "markdown",
   "metadata": {},
   "source": [
    "L'effet des paramètres de la règle d'apprentissage STDP\n",
    "=============================================\n",
    "\n",
    "GEI723, département de génie électrique et génie informatique\n",
    "\n",
    "Copyright (c) Automnes 2019, 2020, 2021, NECOTIS, Université de Sherbrooke\n",
    "\n",
    "Professeur: Jean Rouat\n",
    "\n",
    "Auteurs: Ismaël Balafrej, Ahmad El Ferdaoussi\n",
    "\n",
    "La redistribution de ce matériel en dehors du cadre du cours de neuro-computationnel de l'université de Sherbrooke est interdite sans autorisation préalable des auteurs."
   ]
  },
  {
   "cell_type": "code",
   "execution_count": 5,
   "metadata": {},
   "outputs": [],
   "source": [
    "from brian2 import *\n",
    "prefs.codegen.target = \"numpy\" # By using numpy, the simulation will be faster to simulate small networks\n",
    "import numpy as np\n",
    "import matplotlib.pyplot as plt\n",
    "from ipywidgets import interactive\n",
    "%matplotlib inline"
   ]
  },
  {
   "cell_type": "markdown",
   "metadata": {},
   "source": [
    "Le tutorial de Brian2 sur les synapses a une partie sur la STDP ici: https://brian2.readthedocs.io/en/stable/resources/tutorials/2-intro-to-brian-synapses.html\n",
    "\n",
    "Le tutoriel dans le lien ci-dessus explique les raisons pour lesquelles implémenter la STDP sous sa forme «classique» serait non seulement inefficace d'un point de vue computationnel, mais aussi non réaliste d'un point de vue physiologique.\n",
    "\n",
    "Il existe une façon plus efficace et plus plausible physiologiquement pour implémenter la STDP. On va l'explorer dans ce notebook."
   ]
  },
  {
   "cell_type": "markdown",
   "metadata": {},
   "source": [
    "### Traces synaptiques\n",
    "Dans cette implémentation, on définit deux variables pour une synapse: $a_{pre}$ et $a_{post}$ qui ont une évolution dans le temps semblable au potentiel d'un neurone LIF. Ces variables constituent des «traces» de décharges pré- et post-synaptiques.\n",
    "\n",
    "$$\n",
    "    \\frac{d(a_{pre})}{dt} = \\frac{-a_{pre}}{\\tau_{pre}} \\\\\n",
    "    \\frac{d(a_{post})}{dt} = \\frac{-a_{post}}{\\tau_{post}} \\\\\n",
    "$$\n",
    "\n",
    "Qu'est-ce qui arrive aux variables $a_{pre}$ et $a_{post}$ lors d'une décharge?\n",
    "\n",
    "* Décharge pré-synaptique: $a_{pre} \\rightarrow a_{pre} + A_{pre}$\n",
    "* Décharge post-synaptique: une constante $a_{post} \\rightarrow a{post} + A_{post}$\n",
    "\n",
    "Qu'est-ce qui arrive au poids de la synapse $w$ lors d'une décharge?\n",
    "* Décharge pré-synaptique: $w \\rightarrow w + a_{post}$\n",
    "* Décharge post-synaptique: $w \\rightarrow w + a_{pre}$\n",
    "\n",
    "### Résolution des équations\n",
    "Résolvons les équations différentielles pour pouvoir visualiser l'effet de la STDP sous forme graphique. On fait le calcul pour uniquement pour $a_{pre}$ puisque les équations différentielles sont identiques.\n",
    "\n",
    "On peut réécrire l'équation différentielle sous la forme:\n",
    "\n",
    "$$\n",
    "\\tau_{pre}\\frac{d(a_{pre})}{a_{pre}dt} = -1\n",
    "$$\n",
    "\n",
    "et intégrer dans le temps depuis $t_{pre}$, l'instant d'une décharge pré-synaptique, jusqu'à $t_{post}$, l'instant d'une décharge post-synaptique:\n",
    "\n",
    "$$\n",
    "\\tau_{pre} \\int_{t_{pre}}^{t_{post}} \\frac{d(a_{pre})}{a_{pre}dt} dt = \\int_{t_{pre}}^{t_{post}} -1 dt\n",
    "$$\n",
    "\n",
    "qui donne:\n",
    "\n",
    "$$\n",
    "\\tau_{pre} (ln(a_{pre}(t_{post}) - ln(a_{pre}(t_{pre})) = -(t_{post}-t_{pre})\n",
    "$$\n",
    "\n",
    "ou encore, avec $\\Delta t = t_{post} - t_{pre}$:\n",
    "\n",
    "$$\n",
    "ln \\left( \\frac{a_{pre}(t_{post})}{a_{pre}(t_{pre})} \\right) = \\frac{-\\Delta t}{\\tau_{pre}}\n",
    "$$\n",
    "\n",
    "et enfin:\n",
    "\n",
    "$$\n",
    "a_{pre}(t_{post}) = a_{pre}(t_{pre})e^{\\frac{-\\Delta t}{\\tau_{pre}}}\n",
    "$$\n",
    "\n",
    "Supposons qu'à l'arrivée de la décharge pré-synaptique, $a_{pre}$ était à zéro, donc $a_{pre}(t_{pre_+}) = A_{pre}$ après la décharge pré-synaptique.\n",
    "\n",
    "Notre équation devient\n",
    "\n",
    "$$\n",
    "a_{pre}(t_{post}) = A_{pre} e^{\\frac{-\\Delta t}{\\tau_{pre}}}\n",
    "$$\n",
    "\n",
    "Le calcul est analogue pour $a_{post}$.\n",
    "\n",
    "### Graphique\n",
    "La différence du poids synaptique $\\Delta w$ dépend de $\\Delta t = t_{post} - t_{pre}$.\n",
    "* Si $\\Delta t > 0$: $\\Delta w = a_{pre}$\n",
    "* Si $\\Delta t < 0$: $\\Delta w = a_{post}$\n",
    "\n",
    "Dessinons le graphique de $\\Delta w$ en fonction de $\\Delta t$.\n",
    "\n",
    "Note: ici on a fait l'hypothèse que les traces synaptiques étaient à zéro avant l'arrivée des décharges, et qu'il n'y a qu'une seule paire de décharges qui arrive: une pré-synaptique et une post-synaptique. Que se passe-t-il avec des patrons de décharges plus complexes?"
   ]
  },
  {
   "cell_type": "code",
   "execution_count": 6,
   "metadata": {
    "scrolled": true
   },
   "outputs": [
    {
     "data": {
      "application/vnd.jupyter.widget-view+json": {
       "model_id": "ece3c02763684d1f989c6523eb93f662",
       "version_major": 2,
       "version_minor": 0
      },
      "text/plain": [
       "interactive(children=(FloatSlider(value=20.0, description='taupre', max=50.0, min=0.01, step=0.01), FloatSlide…"
      ]
     },
     "metadata": {},
     "output_type": "display_data"
    }
   ],
   "source": [
    "# Delta t est la différence entre les instants de décharge post- et pré-synaptiques.\n",
    "deltat = np.linspace(-50, 50, num=5000)\n",
    "\n",
    "# Notre fonction \n",
    "def f(taupre=20., taupost=20., Apre=0.01, Apost=-0.01):\n",
    "    \n",
    "    plt.figure(figsize=(8,5))\n",
    "    \n",
    "    # Initialisons le vecteur Delta w\n",
    "    deltaw = np.zeros(deltat.shape)\n",
    "    # Pour Delta t positif, Delta w = a_pre\n",
    "    deltaw[deltat > 0] = Apre*np.exp(-deltat[deltat > 0]/taupre)\n",
    "    # Pour Delta t négatif, Delta w = a_post\n",
    "    deltaw[deltat < 0] = Apost*np.exp(deltat[deltat < 0]/taupost)\n",
    "    \n",
    "    # Dessinons le graphique\n",
    "    plt.plot(deltat, deltaw)\n",
    "    plt.title('STDP paramétrisée')\n",
    "    plt.xlabel('Δt')\n",
    "    plt.ylabel('Δw')\n",
    "    plt.axhline(y=0, color='black')\n",
    "    plt.ylim(min(Apre, Apost, 0), max(Apre, Apost, 0))\n",
    "    plt.grid()\n",
    "\n",
    "# Jupyter permet d'avoir des graphiques interactifs dans lesquels\n",
    "# on peut changer les valeurs des variables de façon dynamique.\n",
    "interactive(f, \n",
    "   taupre=(0.01, 50.0, 0.01), \n",
    "   taupost=(0.01, 50.0, 0.01), \n",
    "   Apre=(0, 0.5, 0.01), \n",
    "   Apost=(-0.5, 0, 0.01))"
   ]
  },
  {
   "cell_type": "markdown",
   "metadata": {},
   "source": [
    "### Traces synaptiques avec Brian2\n",
    "\n",
    "Implémentons à présent cette formulation de la STDP sous Brian2.\n",
    "\n",
    "On peut bien sûr utiliser directement les équations différentielles avec Brian2.\n",
    "\n",
    "On va simuler deux neurones qui ont une connexion synaptique avec la STDP. On fait en sorte que ces neurones déchargent à des différences de temps $\\Delta t$ différentes, et on observe le changement de poids $\\Delta w$ qui s'opère dans la synapse en fonction de la différence entre les instants de décharge.\n",
    "\n",
    "Pour éviter toute confusion entre la syntaxe $a_{pre}$, $a_{post}$, et les mots-clés \"pre\" et \"post\" que Brian2 utilise pour distinguer les variables des neurones pré- et post-synaptiques, on va renommer ces variables respectivement $a$ et $b$ (et de même pour les autres variables).\n",
    "\n",
    "Note: remarquez le mot-clé \"(event-driven)\" ajouté aux variables des traces synaptiques. Brian2 travaille avec une horloge et fait (normalement) les mises à jour des variables à chaque pas de l'horloge. Ceci n'est pas efficace pour nos variables de traces synaptiques, dont on n'a besoin que lorsqu'il y a une décharge. On peut demander à Brian2 de ne les mettre à jour qu'à l'arrivée d'un évènement (c'est-à-dire une décharge) avec \"(event-driven)\". Plus de détails ici: https://brian2.readthedocs.io/en/stable/user/synapses.html?highlight=event-driven#event-driven-updates"
   ]
  },
  {
   "cell_type": "code",
   "execution_count": 7,
   "metadata": {
    "pycharm": {
     "is_executing": true
    }
   },
   "outputs": [
    {
     "data": {
      "image/png": "[encoded data removed]",
      "text/plain": [
       "<Figure size 576x360 with 1 Axes>"
      ]
     },
     "metadata": {
      "needs_background": "light"
     },
     "output_type": "display_data"
    }
   ],
   "source": [
    "start_scope()\n",
    "\n",
    "# Création des neurones\n",
    "tau = 10*ms\n",
    "eqs_neuron = '''\n",
    "dv/dt = -v/tau : 1\n",
    "'''\n",
    "G = NeuronGroup(2, model=eqs_neuron, threshold='v>1', reset='v=0', method='euler')\n",
    "\n",
    "# Création des synapses\n",
    "tau_a = tau_b = 20*ms\n",
    "A = 0.01\n",
    "B = -A\n",
    "\n",
    "eqs_stdp = '''\n",
    "    w : 1\n",
    "    da/dt = -a / tau_a : 1 (event-driven) \n",
    "    db/dt = -b / tau_b : 1 (event-driven)\n",
    "'''\n",
    "on_pre = '''\n",
    "    v_post += w\n",
    "    a += A\n",
    "    w = w + b\n",
    "'''\n",
    "on_post = '''\n",
    "    b += B\n",
    "    w = w + a\n",
    "'''\n",
    "\n",
    "S = Synapses(G, G, model=eqs_stdp, on_pre=on_pre, on_post=on_post, method='euler')\n",
    "\n",
    "# Création d'une connexion synaptique\n",
    "#unidirectionnelle !\n",
    "S.connect(i=0, j=1)\n",
    "\n",
    "# Générons maintenant des entrées pour nos neurones\n",
    "input_generator = SpikeGeneratorGroup(2, [], []*ms) # Our input layer consist of 2 neurons\n",
    "# Connectons ce générateur à nos deux neurones\n",
    "input_generator_synapses = Synapses(input_generator, G, on_pre='v_post += 2') # Forcer des décharges\n",
    "input_generator_synapses.connect(i=[0, 1], j=[0, 1]) \n",
    "\n",
    "# Faisons la simulation pour différents Delta t et calculons Delta w.\n",
    "deltat = np.linspace(-50, 50, num=50)\n",
    "deltaw = np.zeros(deltat.size) # Vecteur pour les valeurs de Delta w\n",
    "\n",
    "# On utilise store() et restore() pour faire cette simulation, comme expliqué dans le notebook sur Brian2!\n",
    "store()\n",
    "\n",
    "for i in range(deltat.size):\n",
    "    dt = deltat[i]\n",
    "    \n",
    "    restore()\n",
    "    \n",
    "    # On fait en sorte que les neurones déchargent à 0 ms et à |dt| ms\n",
    "    # En fonction du signe de dt, les neurones vont décharger un avant l'autre\n",
    "    if dt < 0:\n",
    "        input_generator.set_spikes([0, 1], [-dt, 0]*ms) \n",
    "    else:\n",
    "        input_generator.set_spikes([0, 1], [0, dt]*ms)\n",
    "    run((np.abs(dt)+1)*ms)\n",
    "    deltaw[i] = S.w[0] # delta w est tout simplement w ici parce que w est à zéro initialement\n",
    "\n",
    "# Faisons le graphique de dw en fonction de dt \n",
    "plt.figure(figsize=(8,5))\n",
    "plt.plot(deltat, deltaw, linestyle='-', marker='o')\n",
    "plt.title('STDP paramétrisée avec Brian2')\n",
    "plt.xlabel('Δt')\n",
    "plt.ylabel('Δw')\n",
    "axhline(y=0, color='black')\n",
    "plt.ylim(min(A, B), max(A, B))\n",
    "plt.grid()"
   ]
  },
  {
   "cell_type": "markdown",
   "metadata": {},
   "source": [
    "### Formulation classique\n",
    "\n",
    "Implémentons à présent la formulation «classique» de la STDP, mais en tenant compte uniquement de la dernière paire de décharges pré- et post-synaptiques.\n",
    "\n",
    "$$\n",
    "\\Delta w = W(t_{post}-t_{pre})\n",
    "$$\n",
    "\n",
    "$$\n",
    "\\begin{split}W(\\Delta t) = \\begin{cases}\n",
    "A_{pre} e^{-\\Delta t/\\tau_{pre}} & \\Delta t>0 \\\\\n",
    "A_{post} e^{\\Delta t/\\tau_{post}} & \\Delta t<0\n",
    "\\end{cases}\\end{split}\n",
    "$$\n",
    "\n",
    "À chaque fois que le neurone pré-synaptique décharge, on enregistre l'instant de décharge dans une variable. Cette variable ne garde mémoire que de la dernière décharge pré-synaptique.\n",
    "\n",
    "On fait de même pour le neurone post-synaptique.\n",
    "\n",
    "Lorsqu'on enregistre deux décharges pré- et post-synaptiques, on effectue le changement de poids et on réinitalise la variable de celle la plus ancienne.\n",
    "\n",
    "Comme fait avant, on va remplacer la syntaxe $A_{pre}$, $A_{post}$ par $A$, $B$, respectivement, pour éviter toute confusion avec les mots-clés \"_pre\" et \"_post\" de Brian2 (et de même pour $\\tau$)."
   ]
  },
  {
   "cell_type": "code",
   "execution_count": 8,
   "metadata": {
    "pycharm": {
     "is_executing": true
    }
   },
   "outputs": [
    {
     "data": {
      "image/png": "[encoded data removed]",
      "text/plain": [
       "<Figure size 576x360 with 1 Axes>"
      ]
     },
     "metadata": {
      "needs_background": "light"
     },
     "output_type": "display_data"
    }
   ],
   "source": [
    "start_scope()\n",
    "\n",
    "tau = 10*ms\n",
    "eqs_neuron = '''\n",
    "dv/dt = -v/tau : 1\n",
    "'''\n",
    "G = NeuronGroup(2, model=eqs_neuron, threshold='v>1', reset='v=0', method='euler')\n",
    "tau_a = tau_b = 20*ms\n",
    "A = 0.01\n",
    "B = -A\n",
    "\n",
    "# Cette variable nous permet de réinitialiser les instants de décharge après que la STDP s'opère dans la synapse\n",
    "# On va utiliser la condition int(t_spike_a > t0) pour évaluer si oui ou non on opère le changement de poids\n",
    "t0 = 0*second\n",
    "\n",
    "eqs_stdp = '''\n",
    "    w : 1\n",
    "    t_spike_a : second \n",
    "    t_spike_b : second\n",
    "'''\n",
    "# On peut avoir accès au temps avec la variable t dans la syntaxe des équations de Brian2\n",
    "on_pre = '''\n",
    "    v_post += w\n",
    "    t_spike_a = t\n",
    "    w = w + int(t_spike_b > t0) * B * exp((t_spike_b - t_spike_a)/tau_b)      # le cas Delta t < 0\n",
    "    t_spike_b = t0\n",
    "'''\n",
    "on_post = '''\n",
    "    t_spike_b = t\n",
    "    w = w +  int(t_spike_a > t0) * A * exp(-(t_spike_b - t_spike_a)/tau_a)    # le cas Delta t > 0\n",
    "    t_spike_a = t0\n",
    "'''\n",
    "\n",
    "############################################################\n",
    "####### Ci-dessous exactement le même code qu'avant! #######\n",
    "############################################################\n",
    "\n",
    "S = Synapses(G, G, model=eqs_stdp, on_pre=on_pre, on_post=on_post, method='euler')\n",
    "\n",
    "# Création d'une connexion synaptique\n",
    "S.connect(i=0, j=1)\n",
    "\n",
    "# Générons maintenant des entrées pour nos neurones\n",
    "input_generator = SpikeGeneratorGroup(2, [], []*ms) # Our input layer consist of 2 neurons\n",
    "# Connectons ce générateur à nos deux neurones\n",
    "input_generator_synapses = Synapses(input_generator, G, on_pre='v_post += 2') # Forcer des décharges\n",
    "input_generator_synapses.connect(i=[0, 1], j=[0, 1]) \n",
    "\n",
    "# Faisons la simulation pour différents Delta t et calculons Delta w.\n",
    "deltat = np.linspace(-50, 50, num=50)\n",
    "deltaw = np.zeros(deltat.size) # Vecteur pour les valeurs de Delta w\n",
    "\n",
    "store()\n",
    "\n",
    "for i in range(deltat.size):\n",
    "    dt = deltat[i]\n",
    "    \n",
    "    restore()\n",
    "    \n",
    "    # On fait en sorte que les neurones déchargent à 0 ms et à |dt| ms\n",
    "    # En fonction du signe de dt, les neurones vont décharger un avant l'autre\n",
    "    if dt < 0:\n",
    "        input_generator.set_spikes([0, 1], [-dt, 0]*ms) \n",
    "    else:\n",
    "        input_generator.set_spikes([0, 1], [0, dt]*ms)\n",
    "    run((np.abs(dt)+1)*ms)\n",
    "    deltaw[i] = S.w[0] # delta w est tout simplement w ici parce que w est à zéro initialement\n",
    "\n",
    "# Faisons le graphique de dw en fonction de dt \n",
    "plt.figure(figsize=(8,5))\n",
    "plt.plot(deltat, deltaw, linestyle='-', marker='o')\n",
    "plt.title('STDP paramétrisée avec Brian2')\n",
    "plt.xlabel('Δt')\n",
    "plt.ylabel('Δw')\n",
    "axhline(y=0, color='black')\n",
    "plt.ylim(min(A, B), max(A, B))\n",
    "plt.grid()"
   ]
  },
  {
   "cell_type": "markdown",
   "metadata": {},
   "source": [
    "### Et la différence?\n",
    "\n",
    "Considérons le train de décharge suivant au niveau de la synapse: (pre, pre, post).\n",
    "\n",
    "Que se passe-t-il avec la deuxième formulation de la STDP, et quelle est la différence avec la méthode des traces synaptiques?"
   ]
  },
  {
   "cell_type": "code",
   "execution_count": null,
   "metadata": {},
   "outputs": [],
   "source": []
  }
 ],
 "metadata": {
  "kernelspec": {
   "display_name": "Python 3 (ipykernel)",
   "language": "python",
   "name": "python3"
  },
  "language_info": {
   "codemirror_mode": {
    "name": "ipython",
    "version": 3
   },
   "file_extension": ".py",
   "mimetype": "text/x-python",
   "name": "python",
   "nbconvert_exporter": "python",
   "pygments_lexer": "ipython3",
   "version": "3.9.7"
  }
 },
 "nbformat": 4,
 "nbformat_minor": 2
}
